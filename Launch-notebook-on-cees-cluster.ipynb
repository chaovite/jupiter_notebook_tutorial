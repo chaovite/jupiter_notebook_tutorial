{
 "cells": [
  {
   "cell_type": "markdown",
   "metadata": {},
   "source": [
    "# Launch notebook on cees cluster"
   ]
  },
  {
   "cell_type": "markdown",
   "metadata": {},
   "source": [
    "### On cluster (tool7 or tool8):\n",
    "\n",
    "* In .bashrc add:\n",
    "\n",
    "```bash\n",
    "python3:\n",
    "export PATH=/usr/local/anaconda3/bin:$PATH\n",
    "\n",
    "python2:\n",
    "export PATH=/usr/local/anaconda2/bin:$PATH\n",
    "```"
   ]
  },
  {
   "cell_type": "markdown",
   "metadata": {},
   "source": [
    "* check where the Jupyter configuration file is located:\n",
    "```bash\n",
    "ls ~/.jupyter/jupyter_notebook_config.py\n",
    "```\n",
    "\n",
    "* If it doesn’t exist, create one:\n",
    "```bash\n",
    "jupyter notebook --generate-config\n",
    "```\n",
    "\n",
    "* Using your favorite editor (vim, emacs etc) add the following lines to the config file\n",
    "```python\n",
    "c = get_config()\n",
    "c.NotebookApp.open_browser = False\n",
    "c.NotebookApp.port = <PORT-NUMBER>\n",
    "c.NotebookApp.password = ''\n",
    "```\n",
    "\n",
    "* Open jupyter-notebook using screen\n",
    "```bash\n",
    "screen -R jupyter-notebook\n",
    "jupyter-notebook\n",
    "```\n",
    "Press \"ctrl+a+d\" to detach"
   ]
  },
  {
   "cell_type": "markdown",
   "metadata": {},
   "source": [
    "### On local machine: \n",
    "* port forwarding\n",
    "\n",
    "I don't know how to access cluster's port directly, so I used ssh to map local port to remote port\n",
    "```bash\n",
    "ssh -N -f -L localhost:27474:localhost:7474 usrname@cees-tool-7.stanford.edu\n",
    "```\n",
    "where 27474 is my local PORT-NUMBER and 7474 is remote PORT-NUMBER\n",
    "\n",
    "* access http://localhost:27474/ from browser"
   ]
  },
  {
   "cell_type": "code",
   "execution_count": null,
   "metadata": {
    "collapsed": true
   },
   "outputs": [],
   "source": []
  }
 ],
 "metadata": {
  "anaconda-cloud": {},
  "kernelspec": {
   "display_name": "Python [conda root]",
   "language": "python",
   "name": "conda-root-py"
  },
  "language_info": {
   "codemirror_mode": {
    "name": "ipython",
    "version": 3
   },
   "file_extension": ".py",
   "mimetype": "text/x-python",
   "name": "python",
   "nbconvert_exporter": "python",
   "pygments_lexer": "ipython3",
   "version": "3.5.2"
  }
 },
 "nbformat": 4,
 "nbformat_minor": 1
}
