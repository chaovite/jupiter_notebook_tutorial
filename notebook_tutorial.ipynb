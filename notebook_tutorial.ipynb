{
 "cells": [
  {
   "cell_type": "markdown",
   "metadata": {},
   "source": [
    "# Simple guide to run Python code on Jupyter notebook \n",
    "Chao Liang, Weiqiang Zhu 10/18/2017 "
   ]
  },
  {
   "cell_type": "markdown",
   "metadata": {},
   "source": [
    "First and foremost, the Jupyter notebook is an interactive environment for writing and running code. Jupyter notebook is capable of running code in a wide range of languages (https://github.com/jupyter/jupyter/wiki/Jupyter-kernels). However, this notebook, and the default kernel, runs Python code."
   ]
  },
  {
   "cell_type": "markdown",
   "metadata": {},
   "source": [
    "###  Each block is called a cell.  \n",
    "There are three types of cells: Markdown, Code, Raw NBConverts"
   ]
  },
  {
   "cell_type": "markdown",
   "metadata": {},
   "source": [
    "### This is a mark down cell.\n",
    "##### You can use smaller fonts\n",
    "# You can make it as a header\n",
    "You can leave it as a main body text\n",
    "#### Feel free to type latex equations:\n",
    "<b>Our favorate equation:<b> <br> <br>\n",
    "$\\rho \\frac{\\partial u}{\\partial t} + \\frac{\\partial p}{\\partial x} = 0$ <br>\n",
    "<br>\n",
    "$\\frac{1}{K} \\frac{\\partial p}{\\partial t} + \\frac{\\partial u}{\\partial x} = 0$"
   ]
  },
  {
   "cell_type": "code",
   "execution_count": 17,
   "metadata": {
    "collapsed": false
   },
   "outputs": [
    {
     "name": "stdout",
     "output_type": "stream",
     "text": [
      "This is a code block\n",
      "3\n"
     ]
    }
   ],
   "source": [
    "print('This is a code block')\n",
    "a = 1\n",
    "b = 2\n",
    "print(a + b)"
   ]
  },
  {
   "cell_type": "code",
   "execution_count": 13,
   "metadata": {
    "collapsed": false
   },
   "outputs": [],
   "source": [
    "# Let's make a plot\n",
    "import matplotlib.pyplot as plt\n",
    "import numpy as np\n",
    "%matplotlib inline"
   ]
  },
  {
   "cell_type": "code",
   "execution_count": 15,
   "metadata": {
    "collapsed": false
   },
   "outputs": [
    {
     "data": {
      "text/plain": [
       "<matplotlib.text.Text at 0x1133bc278>"
      ]
     },
     "execution_count": 15,
     "metadata": {},
     "output_type": "execute_result"
    },
    {
     "data": {
      "image/png": "[encoded data removed]",
      "text/plain": [
       "<matplotlib.figure.Figure at 0x112535630>"
      ]
     },
     "metadata": {},
     "output_type": "display_data"
    }
   ],
   "source": [
    "x = np.linspace(-np.pi,np.pi, 100)\n",
    "y = np.sin(x)\n",
    "plt.plot(x,y,'--', marker='d', markerfacecolor='k', color='r')\n",
    "plt.xlabel('time',fontsize=20)\n",
    "plt.ylabel('y',fontsize=20)"
   ]
  },
  {
   "cell_type": "raw",
   "metadata": {},
   "source": [
    "#### This is a raw cell that doesn't have any format rendering.\n",
    "###### Our favorate: $\\rho \\frac{\\partial u}{\\partial t} + \\frac{\\partial p}{\\partial x} = 0$"
   ]
  },
  {
   "cell_type": "markdown",
   "metadata": {},
   "source": [
    "All shortcuts can be found in the Help->Keyboard shortcuts. Use \\< br \\> to add a break line break (notebook syntax as HTML) <br>\n",
    "Basic ones are: <br>\n",
    "a/A             :  add cell above the current cell <br>\n",
    "b/B             :  add cell below the current cell <br>\n",
    "x/X             :  delete current cell <br>\n",
    "m/M             :  change current cell to markdown <br>\n",
    "y/Y             :  change current cell to codecell. <br>\n",
    "control + enter :  run the current cell.<br>\n",
    "shift + enter   :  run the current cell and move to the next one.<br>\n",
    "command + s     :  save the current checkpoint."
   ]
  },
  {
   "cell_type": "markdown",
   "metadata": {
    "collapsed": true
   },
   "source": [
    "### <b> This is pretty much most of the stuff you need to work with the notebook on your computer! <b>"
   ]
  },
  {
   "cell_type": "markdown",
   "metadata": {},
   "source": [
    "# Let's have some fun here playing with Python"
   ]
  },
  {
   "cell_type": "code",
   "execution_count": 33,
   "metadata": {
    "collapsed": false
   },
   "outputs": [],
   "source": [
    "# you can define a function here and call it later\n",
    "def myfun(a, b):\n",
    "    return a + b"
   ]
  },
  {
   "cell_type": "code",
   "execution_count": 34,
   "metadata": {
    "collapsed": false
   },
   "outputs": [
    {
     "name": "stdout",
     "output_type": "stream",
     "text": [
      "3\n"
     ]
    }
   ],
   "source": [
    "print(myfun(1,2))"
   ]
  },
  {
   "cell_type": "code",
   "execution_count": 37,
   "metadata": {
    "collapsed": false
   },
   "outputs": [
    {
     "name": "stdout",
     "output_type": "stream",
     "text": [
      "[1, 2, 3, 'a', 3.6, [6]]\n",
      "[[6], 3.6, 'a', 3, 2, 1]\n",
      "[[6], 3.6, 'a', 3, 2, 1]\n"
     ]
    }
   ],
   "source": [
    "# you can also import the module you have written up \n",
    "from mymodule import *\n",
    "a = [1, 2, 3, 'a', 3.6, [6]] # you can put any objects into a list\n",
    "print(a)\n",
    "print(mymodule.reverseList(a))\n",
    "print(reverseList(a))"
   ]
  },
  {
   "cell_type": "code",
   "execution_count": 36,
   "metadata": {
    "collapsed": false
   },
   "outputs": [
    {
     "name": "stdout",
     "output_type": "stream",
     "text": [
      "300\n",
      "100\n"
     ]
    }
   ],
   "source": [
    "# you can also import the module you have written up \n",
    "from mymodule import addTwoNums as add\n",
    "a = 100\n",
    "b = 200\n",
    "print(add(a,b))\n",
    "print(add(a))"
   ]
  },
  {
   "cell_type": "code",
   "execution_count": null,
   "metadata": {
    "collapsed": true
   },
   "outputs": [],
   "source": []
  },
  {
   "cell_type": "markdown",
   "metadata": {},
   "source": [
    "### Here are links where you can learn more about numpy, scipy, Sympy and matplotlib\n",
    "numpy and scipy: <br>\n",
    "https://docs.scipy.org/doc/<br>\n",
    "https://docs.scipy.org/doc/numpy-dev/user/quickstart.html<br>\n",
    "https://docs.scipy.org/doc/numpy-dev/user/numpy-for-matlab-users.html<br>\n",
    "Simpy:<br>\n",
    "http://www.sympy.org/en/index.html <br>\n",
    "http://docs.sympy.org/latest/tutorial/index.html<br>\n",
    "matplotlib: <br>\n",
    "http://matplotlib.org<br>\n",
    "http://matplotlib.org/tutorials/index.html<br>\n",
    "\n",
    "Different data visualization options:<br>\n",
    "http://pbpython.com/visualization-tools-1.html<br>\n",
    "https://blog.modeanalytics.com/python-data-visualization-libraries/\n",
    "### With numpy+scipy+Simpy+matplotlib, you don't need matlab anymore."
   ]
  },
  {
   "cell_type": "code",
   "execution_count": null,
   "metadata": {
    "collapsed": true
   },
   "outputs": [],
   "source": []
  }
 ],
 "metadata": {
  "anaconda-cloud": {},
  "kernelspec": {
   "display_name": "Python [Root]",
   "language": "python",
   "name": "Python [Root]"
  },
  "language_info": {
   "codemirror_mode": {
    "name": "ipython",
    "version": 3
   },
   "file_extension": ".py",
   "mimetype": "text/x-python",
   "name": "python",
   "nbconvert_exporter": "python",
   "pygments_lexer": "ipython3",
   "version": "3.5.2"
  }
 },
 "nbformat": 4,
 "nbformat_minor": 0
}
